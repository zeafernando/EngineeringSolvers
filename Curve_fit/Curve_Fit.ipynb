{
 "cells": [
  {
   "cell_type": "markdown",
   "id": "9fa2e623-53b3-4d79-9c00-58ebfa21f692",
   "metadata": {},
   "source": [
    "# 0. Importing Libraries #"
   ]
  },
  {
   "cell_type": "code",
   "execution_count": 11,
   "id": "dfcf0472-28c0-4f8e-b72c-261aae734074",
   "metadata": {},
   "outputs": [],
   "source": [
    "# Libraries\n",
    "import numpy as np\n",
    "import pandas as pd\n",
    "import scipy as sc\n",
    "import matplotlib.pyplot as plt\n",
    "from sklearn.metrics import r2_score"
   ]
  },
  {
   "cell_type": "markdown",
   "id": "cbe782ea-8446-4103-b94d-0665c92e0e61",
   "metadata": {},
   "source": [
    "# 1. Defining data #"
   ]
  },
  {
   "cell_type": "markdown",
   "id": "a2f2681f-366f-4466-bd11-20d37403922e",
   "metadata": {},
   "source": [
    "For this example, methanol-water equilibrium data will be used to perform the curve fit."
   ]
  },
  {
   "cell_type": "code",
   "execution_count": 8,
   "id": "340f3864-83bb-4ca0-88ce-978c466ec0ce",
   "metadata": {},
   "outputs": [
    {
     "data": {
      "text/html": [
       "<div>\n",
       "<style scoped>\n",
       "    .dataframe tbody tr th:only-of-type {\n",
       "        vertical-align: middle;\n",
       "    }\n",
       "\n",
       "    .dataframe tbody tr th {\n",
       "        vertical-align: top;\n",
       "    }\n",
       "\n",
       "    .dataframe thead th {\n",
       "        text-align: right;\n",
       "    }\n",
       "</style>\n",
       "<table border=\"1\" class=\"dataframe\">\n",
       "  <thead>\n",
       "    <tr style=\"text-align: right;\">\n",
       "      <th></th>\n",
       "      <th>Methanol_Liquid</th>\n",
       "      <th>Methanol_Vapor</th>\n",
       "    </tr>\n",
       "  </thead>\n",
       "  <tbody>\n",
       "    <tr>\n",
       "      <th>0</th>\n",
       "      <td>0.00</td>\n",
       "      <td>0.000</td>\n",
       "    </tr>\n",
       "    <tr>\n",
       "      <th>1</th>\n",
       "      <td>0.02</td>\n",
       "      <td>0.134</td>\n",
       "    </tr>\n",
       "    <tr>\n",
       "      <th>2</th>\n",
       "      <td>0.03</td>\n",
       "      <td>0.182</td>\n",
       "    </tr>\n",
       "    <tr>\n",
       "      <th>3</th>\n",
       "      <td>0.04</td>\n",
       "      <td>0.230</td>\n",
       "    </tr>\n",
       "    <tr>\n",
       "      <th>4</th>\n",
       "      <td>0.05</td>\n",
       "      <td>0.267</td>\n",
       "    </tr>\n",
       "  </tbody>\n",
       "</table>\n",
       "</div>"
      ],
      "text/plain": [
       "   Methanol_Liquid  Methanol_Vapor\n",
       "0             0.00           0.000\n",
       "1             0.02           0.134\n",
       "2             0.03           0.182\n",
       "3             0.04           0.230\n",
       "4             0.05           0.267"
      ]
     },
     "execution_count": 8,
     "metadata": {},
     "output_type": "execute_result"
    }
   ],
   "source": [
    "# Loading data from a source\n",
    "df = pd.read_csv('methanol_water_data.csv', delimiter = ';')\n",
    "\n",
    "# Checking data\n",
    "df.head()"
   ]
  },
  {
   "cell_type": "code",
   "execution_count": 10,
   "id": "6ea3f5a9-ffce-401b-9432-ce2867db386c",
   "metadata": {},
   "outputs": [],
   "source": [
    "# Transforming data to numpy.ndarray type\n",
    "x = df['Methanol_Liquid'].to_numpy()\n",
    "y = df['Methanol_Vapor'].to_numpy()"
   ]
  },
  {
   "cell_type": "markdown",
   "id": "816f2824-170c-45cf-865d-321da202bbb6",
   "metadata": {},
   "source": [
    "# 2. Curve fit to different orders #"
   ]
  },
  {
   "cell_type": "code",
   "execution_count": 14,
   "id": "64d82663-b3c1-426c-9112-c7dd5eef12dd",
   "metadata": {},
   "outputs": [],
   "source": [
    "# Defining orders (orders can be manipulated)\n",
    "orders = [1, 2, 3, 4, 5]\n",
    "\n",
    "# Ajusting data to different orders and calculating the r2 value\n",
    "r2_values = []\n",
    "for order in orders:\n",
    "    coeffs = np.polyfit(x, y, order) # This numpy function produces the coefficients for the curve fit base on the x & y values\n",
    "    y_fit = np.polyval(coeffs, x) # This numpy function computes the y values based on the coefficients generated in the last row\n",
    "    r2 = r2_score(y, y_fit) # Based on the approximation and actual y values, the r2 score is computed using a sklearn metric\n",
    "    r2_values.append(r2) # Adding the r2 values to the r2 list\n",
    "\n",
    "# Finding the best order for the curve fit\n",
    "best_order = orders[np.argmax(r2_values)]\n",
    "\n",
    "# Fitting the data for the best order\n",
    "coeffs = np.polyfit(x, y, best_order)\n",
    "y_fit = np.polyval(coeffs, x)"
   ]
  },
  {
   "cell_type": "markdown",
   "id": "ce35faa9-40c1-4a8c-a7e3-7f49b3b45a84",
   "metadata": {},
   "source": [
    "# 3. Results #"
   ]
  },
  {
   "cell_type": "code",
   "execution_count": 16,
   "id": "909dba11-c0e5-474d-a9a2-f9f4b4e967e7",
   "metadata": {},
   "outputs": [
    {
     "name": "stdout",
     "output_type": "stream",
     "text": [
      "Best-fit polynomial coefficients: [ 1.12140717e+01 -3.32589933e+01  3.74154547e+01 -1.99600034e+01\n",
      "  5.57169121e+00  2.60410108e-02]\n",
      "R-squared coefficient: 0.9990957252027864\n"
     ]
    },
    {
     "data": {
      "image/png": "[encoded data removed]",
      "text/plain": [
       "<Figure size 640x480 with 1 Axes>"
      ]
     },
     "metadata": {},
     "output_type": "display_data"
    }
   ],
   "source": [
    "# Plotting the fit\n",
    "plt.scatter(x, y, label='Data', c='b')\n",
    "plt.plot(x, y_fit,'--', label='Best-fit polynomial (order {})'.format(best_order), c='r')\n",
    "plt.xlabel('X')\n",
    "plt.ylabel('Y')\n",
    "plt.legend()\n",
    "\n",
    "# Showing the results\n",
    "print('Best-fit polynomial coefficients:', coeffs) # The coefficients are giving from the max value in order (n) to the independent value\n",
    "print('R-squared coefficient:', np.max(r2_values))"
   ]
  }
 ],
 "metadata": {
  "kernelspec": {
   "display_name": "Python 3 (ipykernel)",
   "language": "python",
   "name": "python3"
  },
  "language_info": {
   "codemirror_mode": {
    "name": "ipython",
    "version": 3
   },
   "file_extension": ".py",
   "mimetype": "text/x-python",
   "name": "python",
   "nbconvert_exporter": "python",
   "pygments_lexer": "ipython3",
   "version": "3.11.1"
  }
 },
 "nbformat": 4,
 "nbformat_minor": 5
}
